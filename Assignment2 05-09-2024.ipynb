{
 "cells": [
  {
   "cell_type": "markdown",
   "id": "edea42a2-7837-4227-970e-0eff9e7a8c12",
   "metadata": {},
   "source": [
    "### 05/09/2024"
   ]
  },
  {
   "cell_type": "markdown",
   "id": "1a0e4d33-b470-418a-ba3d-bc5c37d2077b",
   "metadata": {},
   "source": [
    "### Assignment 2 "
   ]
  },
  {
   "cell_type": "markdown",
   "id": "c8490ecb-1107-4781-bc1c-87c737823785",
   "metadata": {},
   "source": [
    "##### Write a function that take n input from user and return data entered by user as a list. Your function should ensure that the value given by user are integer you can ask user. How many values he want entre  "
   ]
  },
  {
   "cell_type": "code",
   "execution_count": 1,
   "id": "38fffd44-3a79-4d1c-aa00-62170b3a86ee",
   "metadata": {},
   "outputs": [],
   "source": [
    "def myFunction():\n",
    "    user_inputs = []\n",
    "    \n",
    "    while True:\n",
    "        val = input(\"\"\"\n",
    "        1 --> Break the loop \n",
    "        2 --> append in list \\n\"\"\")\n",
    "        \n",
    "        if val == '1':\n",
    "            print(\"Exiting loop\")\n",
    "            break\n",
    "        elif val == '2':\n",
    "            value = int(input(\"Enter a value to append: \"))\n",
    "            user_inputs.append(value)\n",
    "        else:\n",
    "            print(\"Invalid input. Please enter '1' or '2'.\")\n",
    "    \n",
    "    return user_inputs"
   ]
  },
  {
   "cell_type": "code",
   "execution_count": 5,
   "id": "4484079b-f349-42a4-88d7-0e97270bc75a",
   "metadata": {},
   "outputs": [
    {
     "name": "stdin",
     "output_type": "stream",
     "text": [
      "\n",
      "        1 --> Break the loop \n",
      "        2 --> append in list \n",
      " 2\n",
      "Enter a value to append:  4\n",
      "\n",
      "        1 --> Break the loop \n",
      "        2 --> append in list \n",
      " 2\n",
      "Enter a value to append:  9\n",
      "\n",
      "        1 --> Break the loop \n",
      "        2 --> append in list \n",
      " 1\n"
     ]
    },
    {
     "name": "stdout",
     "output_type": "stream",
     "text": [
      "Exiting loop\n",
      "Collected values: [4, 9]\n"
     ]
    }
   ],
   "source": [
    "result = myFunction()\n",
    "print(\"Collected values:\", result)"
   ]
  },
  {
   "cell_type": "markdown",
   "id": "6a6835ed-da9d-489e-82f8-01c6ad243067",
   "metadata": {},
   "source": [
    "##### Write a Function that takes one input arguments should be a list this function compute Sum, Average , Minimum, and cummulative Sum, and return these value ."
   ]
  },
  {
   "cell_type": "code",
   "execution_count": 6,
   "id": "072c6e78-8ead-4e89-98cd-6fe60b3fc252",
   "metadata": {},
   "outputs": [],
   "source": [
    "def myFunction2(value):\n",
    "    \n",
    "    # priting minimum value \n",
    "    min_value = min(value)\n",
    "    \n",
    "    # printing maximum value \n",
    "    max_value = max(value)\n",
    "    # program to print cummulative sum\n",
    "    \n",
    "    add = 0\n",
    "    count  = 1\n",
    "    for i in value:\n",
    "        add = add+i\n",
    "        count +=1\n",
    "    \n",
    "    \n",
    "    # to find the average of the value \n",
    "    average = add / count\n",
    "    return min_value , max_value , add , average\n",
    "    "
   ]
  },
  {
   "cell_type": "code",
   "execution_count": 7,
   "id": "dd2d1bc3-3d8a-4e32-8a94-e6ef844513d7",
   "metadata": {},
   "outputs": [],
   "source": [
    "a = myFunction2(result)"
   ]
  },
  {
   "cell_type": "code",
   "execution_count": 8,
   "id": "b91e866a-ba90-43e5-8530-b8802810340c",
   "metadata": {},
   "outputs": [
    {
     "name": "stdout",
     "output_type": "stream",
     "text": [
      "(4, 9, 13, 4.333333333333333)\n"
     ]
    }
   ],
   "source": [
    "print(a)"
   ]
  }
 ],
 "metadata": {
  "kernelspec": {
   "display_name": "Python 3 (ipykernel)",
   "language": "python",
   "name": "python3"
  },
  "language_info": {
   "codemirror_mode": {
    "name": "ipython",
    "version": 3
   },
   "file_extension": ".py",
   "mimetype": "text/x-python",
   "name": "python",
   "nbconvert_exporter": "python",
   "pygments_lexer": "ipython3",
   "version": "3.12.5"
  }
 },
 "nbformat": 4,
 "nbformat_minor": 5
}
