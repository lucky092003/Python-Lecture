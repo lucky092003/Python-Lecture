{
 "cells": [
  {
   "cell_type": "markdown",
   "id": "edea42a2-7837-4227-970e-0eff9e7a8c12",
   "metadata": {},
   "source": [
    "### 05/09/2024"
   ]
  },
  {
   "cell_type": "markdown",
   "id": "1a0e4d33-b470-418a-ba3d-bc5c37d2077b",
   "metadata": {},
   "source": [
    "### Assignment 2 "
   ]
  },
  {
   "cell_type": "markdown",
   "id": "c8490ecb-1107-4781-bc1c-87c737823785",
   "metadata": {},
   "source": [
    "##### Write a function that take n input from user and return data entered by user as a list. Your function should ensure that the value given by user are integer you can ask user. How many values he want entre  "
   ]
  },
  {
   "cell_type": "code",
   "execution_count": 9,
   "id": "62a0d157-b10e-4172-a06b-8f21ec330efa",
   "metadata": {},
   "outputs": [],
   "source": [
    "def myFunction():\n",
    "    user_inputs = []\n",
    "    \n",
    "    while True:\n",
    "        val = input(\"\"\"\n",
    "        1 --> Break the loop \n",
    "        2 --> append in list \\n\"\"\")\n",
    "        \n",
    "        if val == '1':\n",
    "            print(\"Exiting loop\")\n",
    "            break\n",
    "        elif val == '2':\n",
    "            value = int(input(\"Enter a value to append: \"))\n",
    "            user_inputs.append(value)\n",
    "        else:\n",
    "            print(\"Invalid input. Please enter '1' or '2'.\")\n",
    "    \n",
    "    return user_inputs"
   ]
  },
  {
   "cell_type": "code",
   "execution_count": 10,
   "id": "da721778-6311-4cdb-94f5-e5c2ded0de5a",
   "metadata": {},
   "outputs": [
    {
     "name": "stdin",
     "output_type": "stream",
     "text": [
      "\n",
      "        1 --> Break the loop \n",
      "        2 --> append in list \n",
      " 2\n",
      "Enter a value to append:  4\n",
      "\n",
      "        1 --> Break the loop \n",
      "        2 --> append in list \n",
      " 2\n",
      "Enter a value to append:  9\n",
      "\n",
      "        1 --> Break the loop \n",
      "        2 --> append in list \n",
      " 2\n",
      "Enter a value to append:  15\n",
      "\n",
      "        1 --> Break the loop \n",
      "        2 --> append in list \n",
      " 1\n"
     ]
    },
    {
     "name": "stdout",
     "output_type": "stream",
     "text": [
      "Exiting loop\n",
      "Collected values: [4, 9, 15]\n"
     ]
    }
   ],
   "source": [
    "result = myFunction()\n",
    "print(\"Collected values:\", result)"
   ]
  },
  {
   "cell_type": "markdown",
   "id": "5f8f501d-b33b-4aae-ac85-66cb0db9f426",
   "metadata": {},
   "source": [
    "##### Write a Function that takes one input arguments should be a list this function compute Sum, Average , Minimum, and cummulative Sum, and return these value ."
   ]
  },
  {
   "cell_type": "code",
   "execution_count": 11,
   "id": "a559b125-6f17-407f-9bb7-ca735e9b9aa6",
   "metadata": {},
   "outputs": [],
   "source": [
    "def myFunction2(value):\n",
    "    \n",
    "    # Print Minimum Value \n",
    "    min_value = min(value)\n",
    "    \n",
    "    # Print maximum value \n",
    "    max_value = max(value)\n",
    "    # Program to print cummulative sum\n",
    "    \n",
    "    add = 0\n",
    "    count  = 1\n",
    "    for i in value:\n",
    "        add = add+i\n",
    "        count +=1\n",
    "    \n",
    "    \n",
    "    # to find the average of the value \n",
    "    average = add / count\n",
    "    return min_value , max_value , add , average\n",
    "    "
   ]
  },
  {
   "cell_type": "code",
   "execution_count": 12,
   "id": "94449c19-9636-487b-8b28-88bc62746cf8",
   "metadata": {},
   "outputs": [],
   "source": [
    "a,b,c,d = myFunction2(result)"
   ]
  },
  {
   "cell_type": "code",
   "execution_count": 13,
   "id": "19b03e70-3b17-46e4-b843-61b40fab513e",
   "metadata": {},
   "outputs": [
    {
     "name": "stdout",
     "output_type": "stream",
     "text": [
      "4\n"
     ]
    }
   ],
   "source": [
    "print(a)"
   ]
  },
  {
   "cell_type": "code",
   "execution_count": 14,
   "id": "a4c3eaaa-ae0c-4aaa-9885-483cbf7d842f",
   "metadata": {},
   "outputs": [
    {
     "name": "stdout",
     "output_type": "stream",
     "text": [
      "15\n"
     ]
    }
   ],
   "source": [
    "print(b)"
   ]
  },
  {
   "cell_type": "code",
   "execution_count": 15,
   "id": "fa7c82eb-04e3-4dc6-8e09-b36bc7012861",
   "metadata": {},
   "outputs": [
    {
     "name": "stdout",
     "output_type": "stream",
     "text": [
      "28\n"
     ]
    }
   ],
   "source": [
    "print(c)"
   ]
  },
  {
   "cell_type": "code",
   "execution_count": 17,
   "id": "c5295c87-4225-4247-9f2e-8dc186f228f7",
   "metadata": {},
   "outputs": [
    {
     "name": "stdout",
     "output_type": "stream",
     "text": [
      "7.0\n"
     ]
    }
   ],
   "source": [
    "print(d)"
   ]
  }
 ],
 "metadata": {
  "kernelspec": {
   "display_name": "Python 3 (ipykernel)",
   "language": "python",
   "name": "python3"
  },
  "language_info": {
   "codemirror_mode": {
    "name": "ipython",
    "version": 3
   },
   "file_extension": ".py",
   "mimetype": "text/x-python",
   "name": "python",
   "nbconvert_exporter": "python",
   "pygments_lexer": "ipython3",
   "version": "3.12.5"
  }
 },
 "nbformat": 4,
 "nbformat_minor": 5
}
