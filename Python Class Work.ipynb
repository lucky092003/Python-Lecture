{
 "cells": [
  {
   "cell_type": "code",
   "execution_count": 8,
   "id": "7db34318-0b00-42b8-bdde-5de48c533410",
   "metadata": {},
   "outputs": [
    {
     "name": "stdout",
     "output_type": "stream",
     "text": [
      "1\n",
      "loop iteration completed\n",
      "2\n",
      "loop iteration completed\n",
      "3\n",
      "loop iteration completed\n",
      "4\n",
      "loop iteration completed\n",
      "5\n",
      "6\n",
      "7\n",
      "8\n",
      "9\n",
      "completed\n"
     ]
    }
   ],
   "source": [
    "a = 1\n",
    "b = 10\n",
    "#count = 0\n",
    "while a<b:\n",
    "    print(a)\n",
    "    a += 1\n",
    "    if a > 5:\n",
    "        continue\n",
    "    print(\"loop iteration completed\")\n",
    "print(\"completed\")"
   ]
  },
  {
   "cell_type": "code",
   "execution_count": 5,
   "id": "a860f59b-3c83-428b-85f1-f8c41c274534",
   "metadata": {},
   "outputs": [
    {
     "name": "stdout",
     "output_type": "stream",
     "text": [
      "True\n"
     ]
    }
   ],
   "source": [
    "string1 =\"Hello Python\"\n",
    "string2 =\"hello\"\n",
    "\n",
    "#invlude \n",
    "print( string2.upper() in string1.upper()) #membership "
   ]
  },
  {
   "cell_type": "code",
   "execution_count": 9,
   "id": "6c938789-c728-4d58-959d-f2ccd7ce87ae",
   "metadata": {},
   "outputs": [
    {
     "data": {
      "text/plain": [
       "[1, 3, 2, 3, '45']"
      ]
     },
     "execution_count": 9,
     "metadata": {},
     "output_type": "execute_result"
    }
   ],
   "source": [
    "list1 = [1,3,2,3,\"45\"]\n",
    "list1"
   ]
  },
  {
   "cell_type": "code",
   "execution_count": 18,
   "id": "8050aa81-e728-43e6-a16a-19c67e6ec1fd",
   "metadata": {},
   "outputs": [
    {
     "name": "stdout",
     "output_type": "stream",
     "text": [
      " at index \t0 \n",
      " value is 1\n",
      "\n",
      " at index \t1 \n",
      " value is 3\n",
      "\n",
      " at index \t2 \n",
      " value is 2\n",
      "\n",
      " at index \t3 \n",
      " value is 3\n",
      "\n",
      " at index \t4 \n",
      " value is 45\n",
      "\n"
     ]
    }
   ],
   "source": [
    "for i in range(0,len(list1)): #iteration\n",
    "    print(f\" at index \\t{i} \\n value is {list1[i]}\\n\")"
   ]
  },
  {
   "cell_type": "code",
   "execution_count": 11,
   "id": "02f23031-e222-4c2d-9d35-471fa24c5c9a",
   "metadata": {},
   "outputs": [
    {
     "data": {
      "text/plain": [
       "5"
      ]
     },
     "execution_count": 11,
     "metadata": {},
     "output_type": "execute_result"
    }
   ],
   "source": [
    "len(list1)"
   ]
  },
  {
   "cell_type": "code",
   "execution_count": 24,
   "id": "4dfbd3be-5bf6-444a-87b9-bd295118d850",
   "metadata": {},
   "outputs": [
    {
     "data": {
      "text/plain": [
       "([[10, 20], [30, 40]], 2)"
      ]
     },
     "execution_count": 24,
     "metadata": {},
     "output_type": "execute_result"
    }
   ],
   "source": [
    "# 12 20 \n",
    "# 30 40\n",
    "\n",
    "row1 = [ 10, 20 ]\n",
    "row2 = [ 30, 40 ]\n",
    "\n",
    "matrix = [row1, row2]\n",
    "matrix, len(matrix)"
   ]
  },
  {
   "cell_type": "code",
   "execution_count": 25,
   "id": "3a30bd57-1f14-4cec-bf43-1a3332e44479",
   "metadata": {},
   "outputs": [
    {
     "data": {
      "text/plain": [
       "10"
      ]
     },
     "execution_count": 25,
     "metadata": {},
     "output_type": "execute_result"
    }
   ],
   "source": [
    "matrix[0][0]"
   ]
  },
  {
   "cell_type": "code",
   "execution_count": 45,
   "id": "402a8c47-dd05-4138-ab71-0ffefecf95c8",
   "metadata": {},
   "outputs": [],
   "source": [
    "# print value and id \n",
    "def showDetails(val):\n",
    "    print (f\"value is {val} \\n id is {id(val)}\\n \")\n"
   ]
  },
  {
   "cell_type": "code",
   "execution_count": 46,
   "id": "883a010a-de91-42b9-a062-4b97435eb46e",
   "metadata": {},
   "outputs": [
    {
     "name": "stdout",
     "output_type": "stream",
     "text": [
      "value is [1, 3, 2, 3, '45'] \n",
      " id is 1511342386048\n",
      " \n"
     ]
    }
   ],
   "source": [
    "showDetails(list1)"
   ]
  },
  {
   "cell_type": "code",
   "execution_count": 52,
   "id": "f567c9f4-4967-4ddf-a4f8-b27eb726d570",
   "metadata": {},
   "outputs": [
    {
     "name": "stdout",
     "output_type": "stream",
     "text": [
      "[[10  2  3]\n",
      " [ 4  5  6]\n",
      " [ 7  8  9]]\n"
     ]
    }
   ],
   "source": [
    "# Question\n",
    "# create a 3*3 matrix with a variable name a and store in a variable a and make it copy of this variable in b like b=a then m odify in values in b and then print its value in ide \n",
    "\n",
    "a = np.array([[1, 2, 3],[4, 5, 6],[7, 8, 9]])\n",
    "b = a.copy()\n",
    "\n",
    "b[0, 0] = 10\n",
    "print(b)\n",
    "\n"
   ]
  },
  {
   "cell_type": "code",
   "execution_count": 53,
   "id": "0214d8a2-8476-4739-9f26-8b70127bf82e",
   "metadata": {},
   "outputs": [
    {
     "ename": "TypeError",
     "evalue": "showDetails() takes 1 positional argument but 2 were given",
     "output_type": "error",
     "traceback": [
      "\u001b[1;31m---------------------------------------------------------------------------\u001b[0m",
      "\u001b[1;31mTypeError\u001b[0m                                 Traceback (most recent call last)",
      "Cell \u001b[1;32mIn[53], line 3\u001b[0m\n\u001b[0;32m      1\u001b[0m listA \u001b[38;5;241m=\u001b[39m [\u001b[38;5;241m2\u001b[39m, \u001b[38;5;241m4\u001b[39m, \u001b[38;5;241m6\u001b[39m, [\u001b[38;5;241m1\u001b[39m,\u001b[38;5;241m3\u001b[39m]]\n\u001b[0;32m      2\u001b[0m listB \u001b[38;5;241m=\u001b[39m listA\n\u001b[1;32m----> 3\u001b[0m \u001b[43mshowDetails\u001b[49m\u001b[43m(\u001b[49m\u001b[43mlistA\u001b[49m\u001b[43m,\u001b[49m\u001b[43mlistB\u001b[49m\u001b[43m)\u001b[49m\n\u001b[0;32m      4\u001b[0m listB[\u001b[38;5;241m1\u001b[39m] \u001b[38;5;241m=\u001b[39m \u001b[38;5;241m44\u001b[39m\n\u001b[0;32m      5\u001b[0m listB[\u001b[38;5;241m3\u001b[39m][\u001b[38;5;241m0\u001b[39m] \u001b[38;5;241m=\u001b[39m \u001b[38;5;241m55\u001b[39m\n",
      "\u001b[1;31mTypeError\u001b[0m: showDetails() takes 1 positional argument but 2 were given"
     ]
    }
   ],
   "source": [
    "listA = [2, 4, 6, [1,3]]\n",
    "listB = listA\n",
    "showDetails(listA,listB)\n",
    "listB[1] = 44\n",
    "listB[3][0] = 55\n",
    "\n",
    "showDetails(listA,listB)"
   ]
  },
  {
   "cell_type": "code",
   "execution_count": 59,
   "id": "cc2023ec-d7c7-4986-a10d-1a943fcd962c",
   "metadata": {},
   "outputs": [
    {
     "name": "stdin",
     "output_type": "stream",
     "text": [
      "Enter mass :  10\n",
      "Enter acceleration :  10\n"
     ]
    },
    {
     "name": "stdout",
     "output_type": "stream",
     "text": [
      "Force 100.0 \n"
     ]
    }
   ],
   "source": [
    "#write a function that calculate a force , mass*accelrataion \n",
    "def calculate_force(mass, acceleration):\n",
    "    #formula \n",
    "    force = mass * acceleration\n",
    "    return force\n",
    "\n",
    "mass = float(input(\"Enter mass : \"))\n",
    "acceleration = float(input(\"Enter acceleration : \"))\n",
    "\n",
    "# Calculating force\n",
    "force = calculate_force(mass, acceleration)\n",
    "\n",
    "# Output\n",
    "print(f\"Force {force} \")\n"
   ]
  },
  {
   "cell_type": "markdown",
   "id": "50850d6c-9b99-4828-b9f9-27145f3a3a3a",
   "metadata": {},
   "source": [
    "# 2/09/2024 "
   ]
  },
  {
   "cell_type": "markdown",
   "id": "a55c32b6-fa7c-407d-9a61-52570689fd80",
   "metadata": {},
   "source": [
    "#### Functions"
   ]
  },
  {
   "cell_type": "code",
   "execution_count": 9,
   "id": "bf97d1a6-c26e-4538-8d7b-1c82220e73ca",
   "metadata": {},
   "outputs": [],
   "source": [
    "def functionname(inputArguments,Arg2):\n",
    "    #Code \n",
    "    pass"
   ]
  },
  {
   "cell_type": "code",
   "execution_count": 26,
   "id": "3d0c54c9-d1a3-4029-b29f-752e62da24c3",
   "metadata": {},
   "outputs": [
    {
     "ename": "ModuleNotFoundError",
     "evalue": "No module named 'testfile'",
     "output_type": "error",
     "traceback": [
      "\u001b[1;31m---------------------------------------------------------------------------\u001b[0m",
      "\u001b[1;31mModuleNotFoundError\u001b[0m                       Traceback (most recent call last)",
      "Cell \u001b[1;32mIn[26], line 1\u001b[0m\n\u001b[1;32m----> 1\u001b[0m \u001b[38;5;28;01mimport\u001b[39;00m \u001b[38;5;21;01mtestfile\u001b[39;00m\n",
      "\u001b[1;31mModuleNotFoundError\u001b[0m: No module named 'testfile'"
     ]
    }
   ],
   "source": [
    "import testfile"
   ]
  },
  {
   "cell_type": "code",
   "execution_count": 27,
   "id": "6daa0437-80b7-4f3f-8581-3f6660d9b595",
   "metadata": {},
   "outputs": [
    {
     "ename": "NameError",
     "evalue": "name 'math' is not defined",
     "output_type": "error",
     "traceback": [
      "\u001b[1;31m---------------------------------------------------------------------------\u001b[0m",
      "\u001b[1;31mNameError\u001b[0m                                 Traceback (most recent call last)",
      "Cell \u001b[1;32mIn[27], line 1\u001b[0m\n\u001b[1;32m----> 1\u001b[0m \u001b[43mmath\u001b[49m\u001b[38;5;241m.\u001b[39mpi\n",
      "\u001b[1;31mNameError\u001b[0m: name 'math' is not defined"
     ]
    }
   ],
   "source": [
    "math.pi"
   ]
  },
  {
   "cell_type": "code",
   "execution_count": 30,
   "id": "b4b2a0bf-14e4-407d-a007-f873da166471",
   "metadata": {},
   "outputs": [
    {
     "name": "stdout",
     "output_type": "stream",
     "text": [
      " sum : 15\n"
     ]
    }
   ],
   "source": [
    "# Write a function add two variables\n",
    "\n",
    "def addnumbers(a, b):\n",
    "    return a + b\n",
    "result = addnumbers(5, 10)\n",
    "print(\" sum :\", result)"
   ]
  },
  {
   "cell_type": "code",
   "execution_count": 29,
   "id": "4ad3dd3c-c6c4-4cf5-af99-868624dca94b",
   "metadata": {},
   "outputs": [
    {
     "name": "stdout",
     "output_type": "stream",
     "text": [
      " sum : 21\n"
     ]
    }
   ],
   "source": [
    "def addnumbers(a, b, c, d, e):\n",
    "    return a + b + c + d + e\n",
    "result = addnumbers(5, 10, 1, 2 ,3)\n",
    "print(\" sum :\", result)"
   ]
  },
  {
   "cell_type": "code",
   "execution_count": 10,
   "id": "ac7dc7d8-1598-4690-afd4-6fb69451bec7",
   "metadata": {},
   "outputs": [
    {
     "name": "stdout",
     "output_type": "stream",
     "text": [
      "Hi Lucky how are you\n"
     ]
    }
   ],
   "source": [
    "def greet (name, message):\n",
    "    print(f\"Hi {name}{message}\")\n",
    "\n",
    "name = \"Lucky\"\n",
    "message =\" how are you\"\n",
    "greet (name, message)"
   ]
  },
  {
   "cell_type": "markdown",
   "id": "dbf18ae1-bd1a-4f37-9553-815a151ec68f",
   "metadata": {},
   "source": [
    "# 09/09/2024"
   ]
  },
  {
   "cell_type": "markdown",
   "id": "3f9a53a6-58e5-49c3-91b0-167676f8e35a",
   "metadata": {},
   "source": [
    "### Unit-2  Scope "
   ]
  },
  {
   "cell_type": "code",
   "execution_count": 4,
   "id": "09a410c4-3bbf-4204-b20e-0069f59c176a",
   "metadata": {},
   "outputs": [
    {
     "name": "stdout",
     "output_type": "stream",
     "text": [
      "30\n",
      "20\n",
      "10\n"
     ]
    }
   ],
   "source": [
    "# Scope \n",
    "x = 10 \n",
    "def outer_function():\n",
    "    x = 20 #Enclosing Variable\n",
    "    def inner_function():\n",
    "        x = 30\n",
    "        print(x)\n",
    "    inner_function()\n",
    "    print(x)\n",
    "\n",
    "outer_function()\n",
    "print(x)"
   ]
  },
  {
   "cell_type": "markdown",
   "id": "93bfffb7-9b09-46ea-9e49-ffcaaad6f5f5",
   "metadata": {},
   "source": [
    " #### write a function to multiply 3 number and return its result "
   ]
  },
  {
   "cell_type": "code",
   "execution_count": 6,
   "id": "fc5552ff-0fca-4cb2-b87e-df2f65898883",
   "metadata": {},
   "outputs": [],
   "source": [
    "number =[1,2,3]\n",
    "x = list(map(lambda x: x*2 , number))"
   ]
  },
  {
   "cell_type": "code",
   "execution_count": 8,
   "id": "854f1e84-a22a-46f0-96e5-c6541c6198c3",
   "metadata": {},
   "outputs": [
    {
     "data": {
      "text/plain": [
       "[2, 4, 6]"
      ]
     },
     "execution_count": 8,
     "metadata": {},
     "output_type": "execute_result"
    }
   ],
   "source": [
    "x"
   ]
  },
  {
   "cell_type": "code",
   "execution_count": 9,
   "id": "763e241d-4b2e-4842-bff6-ebfbec340c7a",
   "metadata": {},
   "outputs": [],
   "source": [
    "def multiply(x):\n",
    "    for i in x:\n",
    "        return x*2"
   ]
  },
  {
   "cell_type": "code",
   "execution_count": 10,
   "id": "1821f4d3-8a42-4d5a-9eb5-2806a7739bb0",
   "metadata": {},
   "outputs": [
    {
     "data": {
      "text/plain": [
       "array([2, 4, 6])"
      ]
     },
     "execution_count": 10,
     "metadata": {},
     "output_type": "execute_result"
    }
   ],
   "source": [
    "import numpy as np\n",
    "num = np.array([1,2,3])\n",
    "multiply(num)"
   ]
  },
  {
   "cell_type": "code",
   "execution_count": null,
   "id": "ce7fa69e-3c16-4641-9f0c-8a501d84f58f",
   "metadata": {},
   "outputs": [],
   "source": []
  }
 ],
 "metadata": {
  "kernelspec": {
   "display_name": "Python 3 (ipykernel)",
   "language": "python",
   "name": "python3"
  },
  "language_info": {
   "codemirror_mode": {
    "name": "ipython",
    "version": 3
   },
   "file_extension": ".py",
   "mimetype": "text/x-python",
   "name": "python",
   "nbconvert_exporter": "python",
   "pygments_lexer": "ipython3",
   "version": "3.12.5"
  }
 },
 "nbformat": 4,
 "nbformat_minor": 5
}
