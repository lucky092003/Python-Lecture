{
 "cells": [
  {
   "cell_type": "code",
   "execution_count": 3,
   "id": "730e0c48-7e66-4e7f-a9be-1d251d37f8a2",
   "metadata": {},
   "outputs": [
    {
     "name": "stdin",
     "output_type": "stream",
     "text": [
      "Enter location C:\\Users\\Lucky Patel\\Desktop\\Python-Lecture\n"
     ]
    }
   ],
   "source": [
    "import os\n",
    "\n",
    "#help(os)\n",
    "\n",
    "address = input(\"Enter location\")\n",
    "#address = \"C:\\Users\\Lucky Patel\\Desktop\\Python-Lecture\""
   ]
  },
  {
   "cell_type": "code",
   "execution_count": 4,
   "id": "822891f3-391e-47ea-b79f-6437bb66bddb",
   "metadata": {},
   "outputs": [
    {
     "data": {
      "text/plain": [
       "['.git',\n",
       " '.ipynb_checkpoints',\n",
       " 'Assignment 1.ipynb',\n",
       " 'Class Assignment.ipynb',\n",
       " 'List .ipynb',\n",
       " 'Python Assignment 1.pdf',\n",
       " 'Python Class Work.ipynb',\n",
       " 'README.md',\n",
       " 'Uses of Os.ipynb']"
      ]
     },
     "execution_count": 4,
     "metadata": {},
     "output_type": "execute_result"
    }
   ],
   "source": [
    "os.chdir(address)\n",
    "\n",
    "list_of_files = os.listdir()\n",
    "list_of_files"
   ]
  },
  {
   "cell_type": "markdown",
   "id": "5c2e757b-81c7-4d28-a57a-b0b95f1d2406",
   "metadata": {},
   "source": [
    "##### Write a function that dir address from user and organize files on that folder in to following categories as given below "
   ]
  },
  {
   "cell_type": "code",
   "execution_count": 16,
   "id": "cf239da1-1215-46ba-83f9-519e97d031d4",
   "metadata": {},
   "outputs": [
    {
     "name": "stderr",
     "output_type": "stream",
     "text": [
      "<string>:11: SyntaxWarning: invalid escape sequence '\\{'\n",
      "<>:9: SyntaxWarning: invalid escape sequence '\\d'\n",
      "<>:11: SyntaxWarning: invalid escape sequence '\\{'\n",
      "<>:11: SyntaxWarning: invalid escape sequence '\\d'\n",
      "<string>:11: SyntaxWarning: invalid escape sequence '\\{'\n",
      "<>:9: SyntaxWarning: invalid escape sequence '\\d'\n",
      "<>:11: SyntaxWarning: invalid escape sequence '\\{'\n",
      "<>:11: SyntaxWarning: invalid escape sequence '\\d'\n",
      "C:\\Users\\Lucky Patel\\AppData\\Local\\Temp\\ipykernel_11436\\201170942.py:9: SyntaxWarning: invalid escape sequence '\\d'\n",
      "  relative_source_file_path =\".\\demo.txt\"\n",
      "C:\\Users\\Lucky Patel\\AppData\\Local\\Temp\\ipykernel_11436\\201170942.py:11: SyntaxWarning: invalid escape sequence '\\{'\n",
      "  relative_destination_file_path =f\".\\{dirName}\\demo.txt\"\n",
      "C:\\Users\\Lucky Patel\\AppData\\Local\\Temp\\ipykernel_11436\\201170942.py:11: SyntaxWarning: invalid escape sequence '\\d'\n",
      "  relative_destination_file_path =f\".\\{dirName}\\demo.txt\"\n"
     ]
    },
    {
     "ename": "NameError",
     "evalue": "name 'dirName' is not defined",
     "output_type": "error",
     "traceback": [
      "\u001b[1;31m---------------------------------------------------------------------------\u001b[0m",
      "\u001b[1;31mNameError\u001b[0m                                 Traceback (most recent call last)",
      "Cell \u001b[1;32mIn[16], line 4\u001b[0m\n\u001b[0;32m      1\u001b[0m \u001b[38;5;28;01mimport\u001b[39;00m \u001b[38;5;21;01mos\u001b[39;00m\n\u001b[0;32m      3\u001b[0m dirNmae \u001b[38;5;241m=\u001b[39m \u001b[38;5;124m\"\u001b[39m\u001b[38;5;124mImages\u001b[39m\u001b[38;5;124m\"\u001b[39m\n\u001b[1;32m----> 4\u001b[0m makedir \u001b[38;5;241m=\u001b[39m\u001b[38;5;124mf\u001b[39m\u001b[38;5;124m\"\u001b[39m\u001b[38;5;124mmd \u001b[39m\u001b[38;5;132;01m{\u001b[39;00m\u001b[43mdirName\u001b[49m\u001b[38;5;132;01m}\u001b[39;00m\u001b[38;5;124m\"\u001b[39m\n\u001b[0;32m      5\u001b[0m os\u001b[38;5;241m.\u001b[39msystem(make_dir_cmd)\n\u001b[0;32m      7\u001b[0m os\u001b[38;5;241m.\u001b[39mmake(\u001b[38;5;124m\"\u001b[39m\u001b[38;5;124mdirNmae\u001b[39m\u001b[38;5;124m\"\u001b[39m)\n",
      "\u001b[1;31mNameError\u001b[0m: name 'dirName' is not defined"
     ]
    }
   ],
   "source": [
    "import os\n",
    "\n",
    "dirNmae = \"Images\"\n",
    "makedir =f\"md {dirName}\"\n",
    "os.system(make_dir_cmd)\n",
    "\n",
    "os.make(\"dirNmae\")\n",
    "#to move file\n",
    "relative_source_file_path =\".\\demo.txt\"\n",
    "dirNmae = \"Images\"\n",
    "relative_destination_file_path =f\".\\{dirName}\\demo.txt\"\n",
    "cmd_to_move_file = f\"move{relative_source_file_path} {relative_destination_file_path}\""
   ]
  },
  {
   "cell_type": "code",
   "execution_count": 17,
   "id": "961a1334-cdd7-4e5c-9000-c4a76d6bba00",
   "metadata": {},
   "outputs": [
    {
     "data": {
      "text/plain": [
       "['Video', 'Audio', 'Images', 'Misc']"
      ]
     },
     "execution_count": 17,
     "metadata": {},
     "output_type": "execute_result"
    }
   ],
   "source": [
    "import os \n",
    "address = r\"C:\\Users\\Lucky Patel\\Downloads\\Organizer\\Organizer\"\n",
    "os.chdir(address)\n",
    "\n",
    "list_of_files = os.listdir\n",
    "\n",
    "list_of_files\n",
    "\n",
    "dirs_to_create =\"Video,Audio,Images,Misc\".split(\",\")\n",
    "\n",
    "dirs_to_create\n",
    "\n"
   ]
  },
  {
   "cell_type": "code",
   "execution_count": 18,
   "id": "dfa361e5-aefd-4932-8e5c-bb4390a8319f",
   "metadata": {},
   "outputs": [
    {
     "ename": "SyntaxError",
     "evalue": "unterminated f-string literal (detected at line 4) (851547010.py, line 4)",
     "output_type": "error",
     "traceback": [
      "\u001b[1;36m  Cell \u001b[1;32mIn[18], line 4\u001b[1;36m\u001b[0m\n\u001b[1;33m    cmd = f\"mv ./\u001b[0m\n\u001b[1;37m          ^\u001b[0m\n\u001b[1;31mSyntaxError\u001b[0m\u001b[1;31m:\u001b[0m unterminated f-string literal (detected at line 4)\n"
     ]
    }
   ],
   "source": [
    "for f in list_of_files:\n",
    "    ext = f.split(\".\")[-1]\n",
    "    if ext == \"jpg\" or ext == \"png\":\n",
    "        cmd = f\"mv ./"
   ]
  },
  {
   "cell_type": "code",
   "execution_count": null,
   "id": "1e575a66-9f8a-4f73-8756-11ab71319ef5",
   "metadata": {},
   "outputs": [],
   "source": []
  }
 ],
 "metadata": {
  "kernelspec": {
   "display_name": "Python 3 (ipykernel)",
   "language": "python",
   "name": "python3"
  },
  "language_info": {
   "codemirror_mode": {
    "name": "ipython",
    "version": 3
   },
   "file_extension": ".py",
   "mimetype": "text/x-python",
   "name": "python",
   "nbconvert_exporter": "python",
   "pygments_lexer": "ipython3",
   "version": "3.12.5"
  }
 },
 "nbformat": 4,
 "nbformat_minor": 5
}
