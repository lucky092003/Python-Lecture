{
 "cells": [
  {
   "cell_type": "code",
   "execution_count": 3,
   "id": "730e0c48-7e66-4e7f-a9be-1d251d37f8a2",
   "metadata": {},
   "outputs": [
    {
     "name": "stdin",
     "output_type": "stream",
     "text": [
      "Enter location C:\\Users\\Lucky Patel\\Desktop\\Python-Lecture\n"
     ]
    }
   ],
   "source": [
    "import os\n",
    "\n",
    "#help(os)\n",
    "\n",
    "address = input(\"Enter location\")\n",
    "#address = \"C:\\Users\\Lucky Patel\\Desktop\\Python-Lecture\""
   ]
  },
  {
   "cell_type": "code",
   "execution_count": 4,
   "id": "822891f3-391e-47ea-b79f-6437bb66bddb",
   "metadata": {},
   "outputs": [
    {
     "data": {
      "text/plain": [
       "['.git',\n",
       " '.ipynb_checkpoints',\n",
       " 'Assignment 1.ipynb',\n",
       " 'Class Assignment.ipynb',\n",
       " 'List .ipynb',\n",
       " 'Python Assignment 1.pdf',\n",
       " 'Python Class Work.ipynb',\n",
       " 'README.md',\n",
       " 'Uses of Os.ipynb']"
      ]
     },
     "execution_count": 4,
     "metadata": {},
     "output_type": "execute_result"
    }
   ],
   "source": [
    "os.chdir(address)\n",
    "\n",
    "list_of_files = os.listdir()\n",
    "list_of_files"
   ]
  },
  {
   "cell_type": "code",
   "execution_count": null,
   "id": "d7c841c8-4e46-485e-b7f3-af7de8214ddd",
   "metadata": {},
   "outputs": [],
   "source": []
  }
 ],
 "metadata": {
  "kernelspec": {
   "display_name": "Python 3 (ipykernel)",
   "language": "python",
   "name": "python3"
  },
  "language_info": {
   "codemirror_mode": {
    "name": "ipython",
    "version": 3
   },
   "file_extension": ".py",
   "mimetype": "text/x-python",
   "name": "python",
   "nbconvert_exporter": "python",
   "pygments_lexer": "ipython3",
   "version": "3.12.5"
  }
 },
 "nbformat": 4,
 "nbformat_minor": 5
}
