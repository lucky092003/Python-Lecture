{
 "cells": [
  {
   "cell_type": "code",
   "execution_count": 8,
   "id": "7db34318-0b00-42b8-bdde-5de48c533410",
   "metadata": {},
   "outputs": [
    {
     "name": "stdout",
     "output_type": "stream",
     "text": [
      "1\n",
      "loop iteration completed\n",
      "2\n",
      "loop iteration completed\n",
      "3\n",
      "loop iteration completed\n",
      "4\n",
      "loop iteration completed\n",
      "5\n",
      "6\n",
      "7\n",
      "8\n",
      "9\n",
      "completed\n"
     ]
    }
   ],
   "source": [
    "a = 1\n",
    "b = 10\n",
    "#count = 0\n",
    "while a<b:\n",
    "    print(a)\n",
    "    a += 1\n",
    "    if a > 5:\n",
    "        continue\n",
    "    print(\"loop iteration completed\")\n",
    "print(\"completed\")"
   ]
  },
  {
   "cell_type": "code",
   "execution_count": 5,
   "id": "a860f59b-3c83-428b-85f1-f8c41c274534",
   "metadata": {},
   "outputs": [
    {
     "name": "stdout",
     "output_type": "stream",
     "text": [
      "True\n"
     ]
    }
   ],
   "source": [
    "string1 =\"Hello Python\"\n",
    "string2 =\"hello\"\n",
    "\n",
    "print( string2.upper() in string1.upper()) #membership "
   ]
  },
  {
   "cell_type": "code",
   "execution_count": 9,
   "id": "6c938789-c728-4d58-959d-f2ccd7ce87ae",
   "metadata": {},
   "outputs": [
    {
     "data": {
      "text/plain": [
       "[1, 3, 2, 3, '45']"
      ]
     },
     "execution_count": 9,
     "metadata": {},
     "output_type": "execute_result"
    }
   ],
   "source": [
    "list1 = [1,3,2,3,\"45\"]\n",
    "list1"
   ]
  },
  {
   "cell_type": "code",
   "execution_count": 18,
   "id": "8050aa81-e728-43e6-a16a-19c67e6ec1fd",
   "metadata": {},
   "outputs": [
    {
     "name": "stdout",
     "output_type": "stream",
     "text": [
      " at index \t0 \n",
      " value is 1\n",
      "\n",
      " at index \t1 \n",
      " value is 3\n",
      "\n",
      " at index \t2 \n",
      " value is 2\n",
      "\n",
      " at index \t3 \n",
      " value is 3\n",
      "\n",
      " at index \t4 \n",
      " value is 45\n",
      "\n"
     ]
    }
   ],
   "source": [
    "for i in range(0,len(list1)): #iteration\n",
    "    print(f\" at index \\t{i} \\n value is {list1[i]}\\n\")"
   ]
  },
  {
   "cell_type": "code",
   "execution_count": 11,
   "id": "02f23031-e222-4c2d-9d35-471fa24c5c9a",
   "metadata": {},
   "outputs": [
    {
     "data": {
      "text/plain": [
       "5"
      ]
     },
     "execution_count": 11,
     "metadata": {},
     "output_type": "execute_result"
    }
   ],
   "source": [
    "len(list1)"
   ]
  },
  {
   "cell_type": "code",
   "execution_count": 24,
   "id": "4dfbd3be-5bf6-444a-87b9-bd295118d850",
   "metadata": {},
   "outputs": [
    {
     "data": {
      "text/plain": [
       "([[10, 20], [30, 40]], 2)"
      ]
     },
     "execution_count": 24,
     "metadata": {},
     "output_type": "execute_result"
    }
   ],
   "source": [
    "\n",
    "\n",
    "row1 = [ 10, 20 ]\n",
    "row2 = [ 30, 40 ]\n",
    "\n",
    "matrix = [row1, row2]\n",
    "matrix, len(matrix)"
   ]
  },
  {
   "cell_type": "code",
   "execution_count": 25,
   "id": "3a30bd57-1f14-4cec-bf43-1a3332e44479",
   "metadata": {},
   "outputs": [
    {
     "data": {
      "text/plain": [
       "10"
      ]
     },
     "execution_count": 25,
     "metadata": {},
     "output_type": "execute_result"
    }
   ],
   "source": [
    "matrix[0][0]"
   ]
  },
  {
   "cell_type": "code",
   "execution_count": 45,
   "id": "402a8c47-dd05-4138-ab71-0ffefecf95c8",
   "metadata": {},
   "outputs": [],
   "source": [
    "\n",
    "def showDetails(val):\n",
    "    print (f\"value is {val} \\n id is {id(val)}\\n \")\n"
   ]
  },
  {
   "cell_type": "code",
   "execution_count": 46,
   "id": "883a010a-de91-42b9-a062-4b97435eb46e",
   "metadata": {},
   "outputs": [
    {
     "name": "stdout",
     "output_type": "stream",
     "text": [
      "value is [1, 3, 2, 3, '45'] \n",
      " id is 1511342386048\n",
      " \n"
     ]
    }
   ],
   "source": [
    "showDetails(list1)"
   ]
  },
  {
   "cell_type": "code",
   "execution_count": 52,
   "id": "f567c9f4-4967-4ddf-a4f8-b27eb726d570",
   "metadata": {},
   "outputs": [
    {
     "name": "stdout",
     "output_type": "stream",
     "text": [
      "[[10  2  3]\n",
      " [ 4  5  6]\n",
      " [ 7  8  9]]\n"
     ]
    }
   ],
   "source": [
    "# Question\n",
    "# create a 3*3 matrix with a variable name a and store in a variable a and make it copy of this variable in b like b=a then m odify in values in b and then print its value in ide \n",
    "\n",
    "a = np.array([[1, 2, 3],[4, 5, 6],[7, 8, 9]])\n",
    "b = a.copy()\n",
    "\n",
    "b[0, 0] = 10\n",
    "print(b)\n",
    "\n"
   ]
  },
  {
   "cell_type": "code",
   "execution_count": 53,
   "id": "0214d8a2-8476-4739-9f26-8b70127bf82e",
   "metadata": {},
   "outputs": [
    {
     "ename": "TypeError",
     "evalue": "showDetails() takes 1 positional argument but 2 were given",
     "output_type": "error",
     "traceback": [
      "\u001b[1;31m---------------------------------------------------------------------------\u001b[0m",
      "\u001b[1;31mTypeError\u001b[0m                                 Traceback (most recent call last)",
      "Cell \u001b[1;32mIn[53], line 3\u001b[0m\n\u001b[0;32m      1\u001b[0m listA \u001b[38;5;241m=\u001b[39m [\u001b[38;5;241m2\u001b[39m, \u001b[38;5;241m4\u001b[39m, \u001b[38;5;241m6\u001b[39m, [\u001b[38;5;241m1\u001b[39m,\u001b[38;5;241m3\u001b[39m]]\n\u001b[0;32m      2\u001b[0m listB \u001b[38;5;241m=\u001b[39m listA\n\u001b[1;32m----> 3\u001b[0m \u001b[43mshowDetails\u001b[49m\u001b[43m(\u001b[49m\u001b[43mlistA\u001b[49m\u001b[43m,\u001b[49m\u001b[43mlistB\u001b[49m\u001b[43m)\u001b[49m\n\u001b[0;32m      4\u001b[0m listB[\u001b[38;5;241m1\u001b[39m] \u001b[38;5;241m=\u001b[39m \u001b[38;5;241m44\u001b[39m\n\u001b[0;32m      5\u001b[0m listB[\u001b[38;5;241m3\u001b[39m][\u001b[38;5;241m0\u001b[39m] \u001b[38;5;241m=\u001b[39m \u001b[38;5;241m55\u001b[39m\n",
      "\u001b[1;31mTypeError\u001b[0m: showDetails() takes 1 positional argument but 2 were given"
     ]
    }
   ],
   "source": [
    "listA = [2, 4, 6, [1,3]]\n",
    "listB = listA\n",
    "showDetails(listA,listB)\n",
    "listB[1] = 44\n",
    "listB[3][0] = 55\n",
    "\n",
    "showDetails(listA,listB)"
   ]
  },
  {
   "cell_type": "code",
   "execution_count": null,
   "id": "cc2023ec-d7c7-4986-a10d-1a943fcd962c",
   "metadata": {},
   "outputs": [],
   "source": [
    "#write a function that calculate a force , mass*accelrataion \n",
    "def calculate_force(mass, acceleration):\n",
    "    \n",
    "    force = mass * acceleration\n",
    "    return force\n",
    "\n",
    "mass = float(input(\"Enter mass : \"))\n",
    "acceleration = float(input(\"Enter acceleration : \"))\n",
    "\n",
    "\n",
    "force = calculate_force(mass, acceleration)\n",
    "\n",
    "\n",
    "print(f\"Force {force} \")\n"
   ]
  },
  {
   "cell_type": "code",
   "execution_count": null,
   "id": "edf119c2-4c13-4202-b451-f13d21310ec9",
   "metadata": {},
   "outputs": [],
   "source": []
  }
 ],
 "metadata": {
  "kernelspec": {
   "display_name": "Python 3 (ipykernel)",
   "language": "python",
   "name": "python3"
  },
  "language_info": {
   "codemirror_mode": {
    "name": "ipython",
    "version": 3
   },
   "file_extension": ".py",
   "mimetype": "text/x-python",
   "name": "python",
   "nbconvert_exporter": "python",
   "pygments_lexer": "ipython3",
   "version": "3.12.5"
  }
 },
 "nbformat": 4,
 "nbformat_minor": 5
}
