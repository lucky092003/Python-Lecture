{
 "cells": [
  {
   "cell_type": "markdown",
   "id": "827e6baf-39de-4101-8b9b-4ee8529f49db",
   "metadata": {},
   "source": [
    "#### 1.write a program to save a python list into a file\n",
    "#### 2. Read that save file and Recover original List"
   ]
  },
  {
   "cell_type": "markdown",
   "id": "7c80325d-46a2-4897-be81-a0c93ea037bf",
   "metadata": {},
   "source": [
    "#### Without Pickle "
   ]
  },
  {
   "cell_type": "code",
   "execution_count": 36,
   "id": "99d5957d-c66a-4576-8c72-230b3fabd5e2",
   "metadata": {},
   "outputs": [
    {
     "name": "stdout",
     "output_type": "stream",
     "text": [
      "List saved \n"
     ]
    }
   ],
   "source": [
    "list = [1, 2, 3, 4, 5]\n",
    "\n",
    "with open(\"list.txt\", \"w\") as file:\n",
    "    for item in my_list:\n",
    "        file.write(str(item) + \"\\n\")  \n",
    "\n",
    "print(\"List saved \")\n"
   ]
  },
  {
   "cell_type": "code",
   "execution_count": 37,
   "id": "92a64a18-4a63-4fff-9266-8449a44c9e7c",
   "metadata": {},
   "outputs": [
    {
     "name": "stdout",
     "output_type": "stream",
     "text": [
      "Recovered list: ['1', '2', '3', '4', '5']\n"
     ]
    }
   ],
   "source": [
    "recovered_list = []\n",
    "with open(\"list.txt\", \"r\") as file:\n",
    "    for line in file:\n",
    "        recovered_list.append(line.strip())  \n",
    "\n",
    "print(\"Recovered list:\", recovered_list)\n"
   ]
  },
  {
   "cell_type": "markdown",
   "id": "adf76a97-20a4-4a52-830a-7560c7b85fd5",
   "metadata": {},
   "source": [
    "#### With Pickle "
   ]
  },
  {
   "cell_type": "code",
   "execution_count": 44,
   "id": "92e68db6-03aa-46d6-b2d3-7c354277bdd4",
   "metadata": {},
   "outputs": [
    {
     "name": "stdout",
     "output_type": "stream",
     "text": [
      "List saved \n"
     ]
    }
   ],
   "source": [
    "import pickle\n",
    "list = [1, 2, 3, 4, 5]\n",
    "\n",
    "with open(\"list.pkl\", \"wb\") as file:\n",
    "    pickle.dump(list, file)\n",
    "\n",
    "print(\"List saved \")"
   ]
  },
  {
   "cell_type": "code",
   "execution_count": 45,
   "id": "48fe5f85-4f1c-411f-97c8-8d3366559e8e",
   "metadata": {},
   "outputs": [
    {
     "name": "stdout",
     "output_type": "stream",
     "text": [
      "Recovered list: [1, 2, 3, 4, 5]\n"
     ]
    }
   ],
   "source": [
    "with open(\"list.pkl\", \"rb\") as file:\n",
    "    recovered_list = pickle.load(file)\n",
    "\n",
    "print(\"Recovered list:\", recovered_list)"
   ]
  }
 ],
 "metadata": {
  "kernelspec": {
   "display_name": "Python 3 (ipykernel)",
   "language": "python",
   "name": "python3"
  },
  "language_info": {
   "codemirror_mode": {
    "name": "ipython",
    "version": 3
   },
   "file_extension": ".py",
   "mimetype": "text/x-python",
   "name": "python",
   "nbconvert_exporter": "python",
   "pygments_lexer": "ipython3",
   "version": "3.12.5"
  }
 },
 "nbformat": 4,
 "nbformat_minor": 5
}
