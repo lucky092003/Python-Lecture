{
 "cells": [
  {
   "cell_type": "markdown",
   "id": "40a93c2e-95f4-4037-9344-3aa8dcf0f542",
   "metadata": {},
   "source": [
    "#### write a program given data 1,2 of points x, y coordinates  are given as follows points are 1,2 and 1,3& 2,4 & 5,7 (in a 2D plane) this are representing and origin at 0,0\n",
    "#### write functions to estimate the distance between two points, \n",
    "#### write a function to get the position of a point in polar coordinates \n",
    "#### A function to move point when displacement is given"
   ]
  },
  {
   "cell_type": "code",
   "execution_count": 2,
   "id": "39541cc0-0c6c-4a96-a381-932c41a2fbea",
   "metadata": {},
   "outputs": [],
   "source": [
    "def mycordinate(cord1, cord2):\n",
    "    x = (cord2[0]**2)-(cord1[0]**2)\n",
    "    y = (cord2[1]**2)-(cord1[1]**2)\n",
    "    print(x,y)\n",
    "    result = (x+y)**0.5\n",
    "    return result"
   ]
  },
  {
   "cell_type": "code",
   "execution_count": 3,
   "id": "18074b22-3f51-4366-81d4-2b5280eb9694",
   "metadata": {},
   "outputs": [
    {
     "name": "stdout",
     "output_type": "stream",
     "text": [
      "0 5\n",
      " Distance betwwen points(1, 2) and (1, 3) is: 2.23606797749979\n"
     ]
    }
   ],
   "source": [
    "point1=(1,2)\n",
    "point2=(1,3)\n",
    "result=mycordinate(point1,point2)\n",
    "print(f\" Distance betwwen points{point1} and {point2} is: {result}\" )"
   ]
  },
  {
   "cell_type": "code",
   "execution_count": 4,
   "id": "ffa8fb35-2be8-434d-9509-1e6aab9d39e9",
   "metadata": {},
   "outputs": [
    {
     "name": "stdout",
     "output_type": "stream",
     "text": [
      "-1 -4\n",
      " Distance betwwen points(1, 2) and (0, 0) is: (1.3691967456605067e-16+2.23606797749979j)\n"
     ]
    }
   ],
   "source": [
    "point1=(1,2)\n",
    "point2=(0,0)\n",
    "result=mycordinate(point1,point2)\n",
    "print(f\" Distance betwwen points{point1} and {point2} is: {result}\" )"
   ]
  },
  {
   "cell_type": "code",
   "execution_count": 5,
   "id": "cb180cb8-7425-4361-b19e-9cb0cdaa3953",
   "metadata": {},
   "outputs": [],
   "source": [
    "import math\n",
    "def cartesianToPolar(point):\n",
    "    r = math.sqrt(point[0] ** 2 + point[1] ** 2)\n",
    "    degree = math.atan2(point[0],point[1])\n",
    "    return degree"
   ]
  },
  {
   "cell_type": "code",
   "execution_count": 6,
   "id": "4710ca2b-1605-4b43-b099-892e0b1db169",
   "metadata": {},
   "outputs": [
    {
     "data": {
      "text/plain": [
       "0.4636476090008061"
      ]
     },
     "execution_count": 6,
     "metadata": {},
     "output_type": "execute_result"
    }
   ],
   "source": [
    "cartesianToPolar(point1)"
   ]
  },
  {
   "cell_type": "code",
   "execution_count": 7,
   "id": "c20c8c16-33d7-41fe-95e7-2204c0dc0aa8",
   "metadata": {},
   "outputs": [],
   "source": [
    "def move_point(x, y, dx, dy):\n",
    "    x_new = x + dx\n",
    "    y_new = y + dy\n",
    "    return x_new,y_new"
   ]
  },
  {
   "cell_type": "code",
   "execution_count": 8,
   "id": "536c4365-9828-4d7f-a045-4b56d931f511",
   "metadata": {},
   "outputs": [
    {
     "name": "stdout",
     "output_type": "stream",
     "text": [
      "New coordinates: (5, 9)\n"
     ]
    }
   ],
   "source": [
    "# Example usage:\n",
    "x = 3\n",
    "y = 4\n",
    "displacement_x = 2\n",
    "displacement_y = 5\n",
    "\n",
    "new_x, new_y = move_point(x,y, displacement_x, displacement_y)\n",
    "print(f\"New coordinates: ({new_x}, {new_y})\")"
   ]
  },
  {
   "cell_type": "code",
   "execution_count": null,
   "id": "06f789d3-ccb9-4ee3-8a37-0c1bf4735d6c",
   "metadata": {},
   "outputs": [],
   "source": []
  }
 ],
 "metadata": {
  "kernelspec": {
   "display_name": "Python 3 (ipykernel)",
   "language": "python",
   "name": "python3"
  },
  "language_info": {
   "codemirror_mode": {
    "name": "ipython",
    "version": 3
   },
   "file_extension": ".py",
   "mimetype": "text/x-python",
   "name": "python",
   "nbconvert_exporter": "python",
   "pygments_lexer": "ipython3",
   "version": "3.12.5"
  }
 },
 "nbformat": 4,
 "nbformat_minor": 5
}
